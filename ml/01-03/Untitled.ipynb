{
 "cells": [
  {
   "cell_type": "code",
   "execution_count": 4,
   "metadata": {},
   "outputs": [],
   "source": [
    "%matplotlib inline\n",
    "import matplotlib.pyplot as plt\n",
    "import numpy as np\n",
    "import time\n",
    "from sklearn.datasets import make_blobs\n",
    "from matplotlib.colors import ListedColormap"
   ]
  },
  {
   "cell_type": "code",
   "execution_count": 5,
   "metadata": {},
   "outputs": [
    {
     "data": {
      "text/plain": [
       "<matplotlib.collections.PathCollection at 0x7f1b695fd250>"
      ]
     },
     "execution_count": 5,
     "metadata": {},
     "output_type": "execute_result"
    },
    {
     "data": {
      "image/png": "[encoded data removed]",
      "text/plain": [
       "<Figure size 432x288 with 1 Axes>"
      ]
     },
     "metadata": {
      "needs_background": "light"
     },
     "output_type": "display_data"
    }
   ],
   "source": [
    "X_D2,y_D2=make_blobs(n_samples=30,n_features=2, centers=2,\n",
    "cluster_std=1.3, random_state=0)\n",
    "plt.figure\n",
    "plt.scatter(X_D2[:,0],X_D2[:,1],c=y_D2,marker='o',\n",
    "s=50,cmap=ListedColormap(['#FF0000','#00FF00']))"
   ]
  },
  {
   "cell_type": "code",
   "execution_count": 6,
   "metadata": {},
   "outputs": [
    {
     "name": "stdout",
     "output_type": "stream",
     "text": [
      "[0.73105858 0.73105858]\n"
     ]
    }
   ],
   "source": [
    "# GRADED FUNCTION: logisticFunction (1)\n",
    "def logisticFunction(X,theta):\n",
    "    ### START CODE HERE ### (≈ 1 lines of code)\n",
    "    h = 1 / (1 + np.exp(-(theta[0] + theta[1]*X)))\n",
    "    ### END CODE HERE ###\n",
    "    return h\n",
    "\n",
    "theta=np.array([0.5,0.5])\n",
    "print(logisticFunction(np.array([1,1]),theta))"
   ]
  },
  {
   "cell_type": "code",
   "execution_count": 7,
   "metadata": {},
   "outputs": [],
   "source": [
    "# GRADED FUNCTION: logisticRegressionByNumpy (2)\n",
    "def logisticRegressionByNumpy(X,y):\n",
    "    print('Logistic regression')\n",
    "    m=y.size\n",
    "    #print('m=',m)\n",
    "    on=np.ones([m,1])\n",
    "    #print('on=',on)\n",
    "    X=np.concatenate((on,X), axis=1)\n",
    "    #print('X=',X)\n",
    "    theta=np.array([0.1, 0.5, 0.7])\n",
    "    h=logisticFunction(X,theta)\n",
    "    #print(np.concatenate((X,y.reshape(-1,1),h.reshape(-1,1)),axis=1) )\n",
    "    alpha=0.05\n",
    "    iter=150\n",
    "    for i in range(iter):\n",
    "        ### START CODE HERE ### (≈ 2 lines of code)\n",
    "        theta=\n",
    "        h=logisticFunction(X, theta)\n",
    "        ### END CODE HERE ###\n",
    "    print('Result')\n",
    "    ### START CODE HERE ### (≈ 1 lines of code)\n",
    "    h=logisticFunction(X, theta)\n",
    "    ### END CODE HERE ###\n",
    "    print(np.concatenate((X,y.reshape(-1,1),h.reshape(-1,1)),axis=1) )\n",
    "    return theta\n",
    "theta=logisticRegressionByNumpy(X_D2,y_D2)\n",
    "print(logisticRegressionByNumpy(X_D2,y_D2) )"
   ]
  },
  {
   "cell_type": "code",
   "execution_count": null,
   "metadata": {},
   "outputs": [],
   "source": []
  }
 ],
 "metadata": {
  "kernelspec": {
   "display_name": "Python 3",
   "language": "python",
   "name": "python3"
  },
  "language_info": {
   "codemirror_mode": {
    "name": "ipython",
    "version": 3
   },
   "file_extension": ".py",
   "mimetype": "text/x-python",
   "name": "python",
   "nbconvert_exporter": "python",
   "pygments_lexer": "ipython3",
   "version": "3.8.2"
  }
 },
 "nbformat": 4,
 "nbformat_minor": 4
}
