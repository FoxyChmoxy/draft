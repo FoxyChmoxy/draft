{
 "cells": [
  {
   "cell_type": "markdown",
   "metadata": {},
   "source": [
    "## Task"
   ]
  },
  {
   "cell_type": "markdown",
   "metadata": {},
   "source": [
    "Файл reviews.xlsx содержит датасет с рецензиями к фильмам с сайта **kinopoisk.ru**.\n",
    "\n",
    "```\n",
    "movie_link - ссылка на фильм\n",
    "author_id – ссылка на страницу автора отзыва\n",
    "author_name – имя автора\n",
    "review_subtitle – заголовок отзыва\n",
    "review_text – текст отзыва\n",
    "target – оценка пользователя на фильм good / bad / neutral.\n",
    "```\n",
    "\n",
    "1. Необходимо построить модель по определению target \n",
    "2. Решении должно быть реализовано в Google Colab. Комментарии приветствуются.\n",
    "3. Модель должна обучаться на 80% случайно выбранных записей, а финальная оценка точности должна быть проведена на оставшихся 20%. \n",
    "4. Оценка точности должна содержать общий показатель accuracy и отдельно по каждому классу precission, recall и f1-score."
   ]
  },
  {
   "cell_type": "markdown",
   "metadata": {},
   "source": [
    "## Import Library"
   ]
  },
  {
   "cell_type": "code",
   "execution_count": 2,
   "metadata": {},
   "outputs": [],
   "source": [
    "import pandas as pd\n",
    "import matplotlib.pyplot as plt\n",
    "import matplotlib as mpl\n",
    "import nltk.classify.util\n",
    "from sklearn.model_selection import train_test_split\n",
    "from sklearn.metrics import confusion_matrix\n",
    "from sklearn import metrics\n",
    "from sklearn.metrics import roc_curve, auc\n",
    "from nltk.classify import NaiveBayesClassifier\n",
    "import numpy as np\n",
    "import re\n",
    "import string\n",
    "import nltk\n",
    "%matplotlib inline"
   ]
  },
  {
   "cell_type": "markdown",
   "metadata": {},
   "source": [
    "## Import Dataset"
   ]
  },
  {
   "cell_type": "code",
   "execution_count": 3,
   "metadata": {},
   "outputs": [
    {
     "data": {
      "text/html": [
       "<div>\n",
       "<style scoped>\n",
       "    .dataframe tbody tr th:only-of-type {\n",
       "        vertical-align: middle;\n",
       "    }\n",
       "\n",
       "    .dataframe tbody tr th {\n",
       "        vertical-align: top;\n",
       "    }\n",
       "\n",
       "    .dataframe thead th {\n",
       "        text-align: right;\n",
       "    }\n",
       "</style>\n",
       "<table border=\"1\" class=\"dataframe\">\n",
       "  <thead>\n",
       "    <tr style=\"text-align: right;\">\n",
       "      <th></th>\n",
       "      <th>target</th>\n",
       "      <th>movie_link</th>\n",
       "      <th>author_id</th>\n",
       "      <th>author_name</th>\n",
       "      <th>review_subtitle</th>\n",
       "      <th>review_text</th>\n",
       "    </tr>\n",
       "  </thead>\n",
       "  <tbody>\n",
       "    <tr>\n",
       "      <th>0</th>\n",
       "      <td>good</td>\n",
       "      <td>/film/178563/</td>\n",
       "      <td>/user/311869/</td>\n",
       "      <td>sochi2014</td>\n",
       "      <td>NaN</td>\n",
       "      <td>Настоящее кино. Наше кино. Прекрасная работа с...</td>\n",
       "    </tr>\n",
       "    <tr>\n",
       "      <th>1</th>\n",
       "      <td>good</td>\n",
       "      <td>/film/178563/</td>\n",
       "      <td>/user/1591566/</td>\n",
       "      <td>Альберт Попов</td>\n",
       "      <td>Предтеча многого</td>\n",
       "      <td>Мало того, что сериал «Империя под ударом» (12...</td>\n",
       "    </tr>\n",
       "    <tr>\n",
       "      <th>2</th>\n",
       "      <td>good</td>\n",
       "      <td>/film/178563/</td>\n",
       "      <td>/user/331395/</td>\n",
       "      <td>LennoxL</td>\n",
       "      <td>Срез жизни общества начала 20 го века</td>\n",
       "      <td>Период от реформ Александра Освободителя до пе...</td>\n",
       "    </tr>\n",
       "    <tr>\n",
       "      <th>3</th>\n",
       "      <td>good</td>\n",
       "      <td>/film/178563/</td>\n",
       "      <td>/user/4379604/</td>\n",
       "      <td>Ana_K</td>\n",
       "      <td>Пусть мир погибнет, но восторжествует правосудие</td>\n",
       "      <td>Атмосферный сериал о Российской Империи начала...</td>\n",
       "    </tr>\n",
       "    <tr>\n",
       "      <th>4</th>\n",
       "      <td>neutral</td>\n",
       "      <td>/film/178563/</td>\n",
       "      <td>/user/178788/</td>\n",
       "      <td>Skept</td>\n",
       "      <td>Террор  Зло с непредсказуемыми последствиями</td>\n",
       "      <td>Самая большая беда современного общества это т...</td>\n",
       "    </tr>\n",
       "  </tbody>\n",
       "</table>\n",
       "</div>"
      ],
      "text/plain": [
       "    target     movie_link       author_id    author_name  \\\n",
       "0     good  /film/178563/   /user/311869/      sochi2014   \n",
       "1     good  /film/178563/  /user/1591566/  Альберт Попов   \n",
       "2     good  /film/178563/   /user/331395/        LennoxL   \n",
       "3     good  /film/178563/  /user/4379604/          Ana_K   \n",
       "4  neutral  /film/178563/   /user/178788/          Skept   \n",
       "\n",
       "                                    review_subtitle  \\\n",
       "0                                               NaN   \n",
       "1                                 Предтеча многого\n",
       "   \n",
       "2             Срез жизни общества начала 20 го века   \n",
       "3  Пусть мир погибнет, но восторжествует правосудие   \n",
       "4    Террор  Зло с непредсказуемыми последствиями\n",
       "   \n",
       "\n",
       "                                         review_text  \n",
       "0  Настоящее кино. Наше кино. Прекрасная работа с...  \n",
       "1  Мало того, что сериал «Империя под ударом» (12...  \n",
       "2  Период от реформ Александра Освободителя до пе...  \n",
       "3  Атмосферный сериал о Российской Империи начала...  \n",
       "4  Самая большая беда современного общества это т...  "
      ]
     },
     "execution_count": 3,
     "metadata": {},
     "output_type": "execute_result"
    }
   ],
   "source": [
    "df = pd.read_excel('reviews.xlsx')\n",
    "df.head()"
   ]
  },
  {
   "cell_type": "code",
   "execution_count": 4,
   "metadata": {},
   "outputs": [
    {
     "data": {
      "text/plain": [
       "(80284, 6)"
      ]
     },
     "execution_count": 4,
     "metadata": {},
     "output_type": "execute_result"
    }
   ],
   "source": [
    "df.shape"
   ]
  },
  {
   "cell_type": "code",
   "execution_count": 5,
   "metadata": {},
   "outputs": [
    {
     "data": {
      "text/plain": [
       "Index(['target', 'movie_link', 'author_id', 'author_name', 'review_subtitle',\n",
       "       'review_text'],\n",
       "      dtype='object')"
      ]
     },
     "execution_count": 5,
     "metadata": {},
     "output_type": "execute_result"
    }
   ],
   "source": [
    "df.columns"
   ]
  },
  {
   "cell_type": "markdown",
   "metadata": {},
   "source": [
    "#### Ищем дыры в датасете"
   ]
  },
  {
   "cell_type": "code",
   "execution_count": 6,
   "metadata": {},
   "outputs": [
    {
     "data": {
      "text/plain": [
       "target                 0\n",
       "movie_link             0\n",
       "author_id              0\n",
       "author_name            2\n",
       "review_subtitle    20084\n",
       "review_text            2\n",
       "dtype: int64"
      ]
     },
     "execution_count": 6,
     "metadata": {},
     "output_type": "execute_result"
    }
   ],
   "source": [
    "df.isnull().sum()"
   ]
  },
  {
   "cell_type": "markdown",
   "metadata": {},
   "source": [
    "#### 1. Убираем все рецензии без текста и без автора\n",
    "#### 2. Заменяем каждый NaN на Пусто"
   ]
  },
  {
   "cell_type": "code",
   "execution_count": 7,
   "metadata": {},
   "outputs": [
    {
     "data": {
      "text/plain": [
       "target             0\n",
       "movie_link         0\n",
       "author_id          0\n",
       "author_name        0\n",
       "review_subtitle    0\n",
       "review_text        0\n",
       "dtype: int64"
      ]
     },
     "execution_count": 7,
     "metadata": {},
     "output_type": "execute_result"
    }
   ],
   "source": [
    "df = df[df['review_text'].notnull() & df['author_name'].notnull()]\n",
    "df[\"review_subtitle\"] = df[\"review_subtitle\"].replace([float('nan')] , [\"Пусто\"])\n",
    "df.isnull().sum()"
   ]
  },
  {
   "cell_type": "code",
   "execution_count": 14,
   "metadata": {},
   "outputs": [
    {
     "data": {
      "text/plain": [
       "80280"
      ]
     },
     "execution_count": 14,
     "metadata": {},
     "output_type": "execute_result"
    }
   ],
   "source": [
    "len(df['review_text'])"
   ]
  },
  {
   "cell_type": "code",
   "execution_count": 26,
   "metadata": {},
   "outputs": [
    {
     "data": {
      "text/plain": [
       "'Настоящее кино. Наше кино. Прекрасная работа сценариста, режиссёра, операторов. Профессиональный монтаж, музыкальное сопровождение. Превосходная игра актёров.\\n\\r\\nРабота с\\xa0таким тонким материалом, как\\xa0история, требует мастерства и\\xa0подлинного таланта. Это\\xa0не фантазия и\\xa0нахлынувшее воображение, а\\xa0факты, подлинная история, с\\xa0которой нельзя не\\xa0считаться. Прочувственно то\\xa0неспокойное время. Фильм не\\xa0отвергает прошлое, как\\xa0делают в\\xa0некоторых картин, не\\xa0старается выкрасить в\\xa0чёрные цвета действующих лиц. \\n\\r\\nФильм всего лишь повествует о\\xa0людях, об\\xa0идеях, о\\xa0любви. Повествует о\\xa0стране, которая очень сильно изменилась, но\\xa0по-прежнему существует. Хочется вериться, что\\xa0никакие идеи и\\xa0люди, которые борются за\\xa0эти идеи, не\\xa0пойдут по\\xa0проторённой дороге. Уроки должны быть выучены, особенно уроки истории.'"
      ]
     },
     "execution_count": 26,
     "metadata": {},
     "output_type": "execute_result"
    }
   ],
   "source": [
    "reviews = df['review_text'].to_numpy()\n",
    "reviews[0]"
   ]
  },
  {
   "cell_type": "markdown",
   "metadata": {},
   "source": [
    "#### Можно заметить, что пробел почему-то иногда записывается, как '\\xa0' и эмодзи, как '\\n\\r\\n'"
   ]
  }
 ],
 "metadata": {
  "kernelspec": {
   "display_name": "Python 3.8.2 64-bit ('dl': conda)",
   "language": "python",
   "name": "python38264bitdlcondaa180a010ef684b4caaeb2a04b88c216b"
  },
  "language_info": {
   "codemirror_mode": {
    "name": "ipython",
    "version": 3
   },
   "file_extension": ".py",
   "mimetype": "text/x-python",
   "name": "python",
   "nbconvert_exporter": "python",
   "pygments_lexer": "ipython3",
   "version": "3.8.2"
  }
 },
 "nbformat": 4,
 "nbformat_minor": 4
}
