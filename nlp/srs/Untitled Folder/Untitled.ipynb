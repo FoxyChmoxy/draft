{
 "cells": [
  {
   "cell_type": "code",
   "execution_count": 19,
   "metadata": {},
   "outputs": [],
   "source": [
    "import numpy as np\n",
    "import re\n",
    "import string\n",
    "import nltk\n",
    "import pandas as pd\n",
    "import matplotlib.pyplot as plt\n",
    "from sklearn.model_selection import train_test_split\n",
    "from nltk.corpus import stopwords\n",
    "%matplotlib inline\n",
    "\n",
    "russian_stopwords = stopwords.words(\"russian\")"
   ]
  },
  {
   "cell_type": "code",
   "execution_count": 20,
   "metadata": {},
   "outputs": [
    {
     "data": {
      "text/html": [
       "<div>\n",
       "<style scoped>\n",
       "    .dataframe tbody tr th:only-of-type {\n",
       "        vertical-align: middle;\n",
       "    }\n",
       "\n",
       "    .dataframe tbody tr th {\n",
       "        vertical-align: top;\n",
       "    }\n",
       "\n",
       "    .dataframe thead th {\n",
       "        text-align: right;\n",
       "    }\n",
       "</style>\n",
       "<table border=\"1\" class=\"dataframe\">\n",
       "  <thead>\n",
       "    <tr style=\"text-align: right;\">\n",
       "      <th></th>\n",
       "      <th>target</th>\n",
       "      <th>movie_link</th>\n",
       "      <th>author_id</th>\n",
       "      <th>author_name</th>\n",
       "      <th>review_subtitle</th>\n",
       "      <th>review_text</th>\n",
       "    </tr>\n",
       "  </thead>\n",
       "  <tbody>\n",
       "    <tr>\n",
       "      <th>0</th>\n",
       "      <td>good</td>\n",
       "      <td>/film/178563/</td>\n",
       "      <td>/user/311869/</td>\n",
       "      <td>sochi2014</td>\n",
       "      <td>NaN</td>\n",
       "      <td>Настоящее кино. Наше кино. Прекрасная работа с...</td>\n",
       "    </tr>\n",
       "    <tr>\n",
       "      <th>1</th>\n",
       "      <td>good</td>\n",
       "      <td>/film/178563/</td>\n",
       "      <td>/user/1591566/</td>\n",
       "      <td>Альберт Попов</td>\n",
       "      <td>Предтеча многого</td>\n",
       "      <td>Мало того, что сериал «Империя под ударом» (12...</td>\n",
       "    </tr>\n",
       "    <tr>\n",
       "      <th>2</th>\n",
       "      <td>good</td>\n",
       "      <td>/film/178563/</td>\n",
       "      <td>/user/331395/</td>\n",
       "      <td>LennoxL</td>\n",
       "      <td>Срез жизни общества начала 20 го века</td>\n",
       "      <td>Период от реформ Александра Освободителя до пе...</td>\n",
       "    </tr>\n",
       "    <tr>\n",
       "      <th>3</th>\n",
       "      <td>good</td>\n",
       "      <td>/film/178563/</td>\n",
       "      <td>/user/4379604/</td>\n",
       "      <td>Ana_K</td>\n",
       "      <td>Пусть мир погибнет, но восторжествует правосудие</td>\n",
       "      <td>Атмосферный сериал о Российской Империи начала...</td>\n",
       "    </tr>\n",
       "    <tr>\n",
       "      <th>4</th>\n",
       "      <td>neutral</td>\n",
       "      <td>/film/178563/</td>\n",
       "      <td>/user/178788/</td>\n",
       "      <td>Skept</td>\n",
       "      <td>Террор  Зло с непредсказуемыми последствиями</td>\n",
       "      <td>Самая большая беда современного общества это т...</td>\n",
       "    </tr>\n",
       "  </tbody>\n",
       "</table>\n",
       "</div>"
      ],
      "text/plain": [
       "    target     movie_link       author_id    author_name  \\\n",
       "0     good  /film/178563/   /user/311869/      sochi2014   \n",
       "1     good  /film/178563/  /user/1591566/  Альберт Попов   \n",
       "2     good  /film/178563/   /user/331395/        LennoxL   \n",
       "3     good  /film/178563/  /user/4379604/          Ana_K   \n",
       "4  neutral  /film/178563/   /user/178788/          Skept   \n",
       "\n",
       "                                    review_subtitle  \\\n",
       "0                                               NaN   \n",
       "1                                 Предтеча многого\n",
       "   \n",
       "2             Срез жизни общества начала 20 го века   \n",
       "3  Пусть мир погибнет, но восторжествует правосудие   \n",
       "4    Террор  Зло с непредсказуемыми последствиями\n",
       "   \n",
       "\n",
       "                                         review_text  \n",
       "0  Настоящее кино. Наше кино. Прекрасная работа с...  \n",
       "1  Мало того, что сериал «Империя под ударом» (12...  \n",
       "2  Период от реформ Александра Освободителя до пе...  \n",
       "3  Атмосферный сериал о Российской Империи начала...  \n",
       "4  Самая большая беда современного общества это т...  "
      ]
     },
     "execution_count": 20,
     "metadata": {},
     "output_type": "execute_result"
    }
   ],
   "source": [
    "df = pd.read_excel('../reviews.xlsx')\n",
    "df.head()"
   ]
  },
  {
   "cell_type": "code",
   "execution_count": 21,
   "metadata": {},
   "outputs": [],
   "source": [
    "data = df[['review_text', 'target']]"
   ]
  },
  {
   "cell_type": "code",
   "execution_count": 22,
   "metadata": {},
   "outputs": [],
   "source": [
    "positive_reviews = data[data['target'] == 'good']['review_text'].astype('str')[:(df.shape[0] * 80) // 100].to_numpy()\n",
    "negative_reviews = data[data['target'] == 'bad']['review_text'].astype('str')[:(df.shape[0] * 80) // 100].to_numpy()"
   ]
  },
  {
   "cell_type": "code",
   "execution_count": 26,
   "metadata": {},
   "outputs": [
    {
     "ename": "MemoryError",
     "evalue": "Unable to allocate 12.5 GiB for an array with shape (1369029,) and data type <U2457",
     "output_type": "error",
     "traceback": [
      "\u001b[0;31m---------------------------------------------------------------------------\u001b[0m",
      "\u001b[0;31mMemoryError\u001b[0m                               Traceback (most recent call last)",
      "\u001b[0;32m<ipython-input-26-2f40292e9f30>\u001b[0m in \u001b[0;36m<module>\u001b[0;34m\u001b[0m\n\u001b[0;32m----> 1\u001b[0;31m \u001b[0mpositive_tokens\u001b[0m \u001b[0;34m=\u001b[0m \u001b[0mnp\u001b[0m\u001b[0;34m.\u001b[0m\u001b[0marray\u001b[0m\u001b[0;34m(\u001b[0m\u001b[0;34m[\u001b[0m\u001b[0mtokens\u001b[0m \u001b[0;32mfor\u001b[0m \u001b[0mreview\u001b[0m \u001b[0;32min\u001b[0m \u001b[0mpositive_reviews\u001b[0m \u001b[0;32mfor\u001b[0m \u001b[0mtokens\u001b[0m \u001b[0;32min\u001b[0m \u001b[0mnltk\u001b[0m\u001b[0;34m.\u001b[0m\u001b[0msent_tokenize\u001b[0m\u001b[0;34m(\u001b[0m\u001b[0mreview\u001b[0m\u001b[0;34m)\u001b[0m\u001b[0;34m]\u001b[0m\u001b[0;34m)\u001b[0m\u001b[0;34m\u001b[0m\u001b[0;34m\u001b[0m\u001b[0m\n\u001b[0m\u001b[1;32m      2\u001b[0m \u001b[0mnegative_tokens\u001b[0m \u001b[0;34m=\u001b[0m \u001b[0mnp\u001b[0m\u001b[0;34m.\u001b[0m\u001b[0marray\u001b[0m\u001b[0;34m(\u001b[0m\u001b[0;34m[\u001b[0m\u001b[0mtokens\u001b[0m \u001b[0;32mfor\u001b[0m \u001b[0mreview\u001b[0m \u001b[0;32min\u001b[0m \u001b[0mnegative_reviews\u001b[0m \u001b[0;32mfor\u001b[0m \u001b[0mtokens\u001b[0m \u001b[0;32min\u001b[0m \u001b[0mnltk\u001b[0m\u001b[0;34m.\u001b[0m\u001b[0msent_tokenize\u001b[0m\u001b[0;34m(\u001b[0m\u001b[0mreview\u001b[0m\u001b[0;34m)\u001b[0m\u001b[0;34m]\u001b[0m\u001b[0;34m)\u001b[0m\u001b[0;34m\u001b[0m\u001b[0;34m\u001b[0m\u001b[0m\n",
      "\u001b[0;31mMemoryError\u001b[0m: Unable to allocate 12.5 GiB for an array with shape (1369029,) and data type <U2457"
     ]
    }
   ],
   "source": [
    "positive_tokens = np.array([tokens for review in positive_reviews for tokens in nltk.sent_tokenize(review)])\n",
    "negative_tokens = np.array([tokens for review in negative_reviews for tokens in nltk.sent_tokenize(review)])"
   ]
  },
  {
   "cell_type": "code",
   "execution_count": null,
   "metadata": {},
   "outputs": [],
   "source": []
  },
  {
   "cell_type": "code",
   "execution_count": 24,
   "metadata": {},
   "outputs": [],
   "source": [
    "def tokenize(review):\n",
    "    words = np.empty([2, 0])\n",
    "    for word in nltk.word_tokenize(review):\n",
    "        if not re.search(r'[^0-9а-яА-ЯёЁ]+', word) and word not in russian_stopwords:\n",
    "            words = np.append(words, [[word.lower()]])\n",
    "    return words"
   ]
  },
  {
   "cell_type": "code",
   "execution_count": 25,
   "metadata": {},
   "outputs": [
    {
     "ename": "TypeError",
     "evalue": "array() missing required argument 'object' (pos 1)",
     "output_type": "error",
     "traceback": [
      "\u001b[0;31m---------------------------------------------------------------------------\u001b[0m",
      "\u001b[0;31mTypeError\u001b[0m                                 Traceback (most recent call last)",
      "\u001b[0;32m<ipython-input-25-0b77e2aea63c>\u001b[0m in \u001b[0;36m<module>\u001b[0;34m\u001b[0m\n\u001b[0;32m----> 1\u001b[0;31m \u001b[0mpositive_cleaned_tokens_list\u001b[0m \u001b[0;34m=\u001b[0m \u001b[0mnp\u001b[0m\u001b[0;34m.\u001b[0m\u001b[0marray\u001b[0m\u001b[0;34m(\u001b[0m\u001b[0;34m)\u001b[0m\u001b[0;34m\u001b[0m\u001b[0;34m\u001b[0m\u001b[0m\n\u001b[0m\u001b[1;32m      2\u001b[0m \u001b[0mnegative_cleaned_tokens_list\u001b[0m \u001b[0;34m=\u001b[0m \u001b[0mnp\u001b[0m\u001b[0;34m.\u001b[0m\u001b[0marray\u001b[0m\u001b[0;34m(\u001b[0m\u001b[0;34m)\u001b[0m\u001b[0;34m\u001b[0m\u001b[0;34m\u001b[0m\u001b[0m\n",
      "\u001b[0;31mTypeError\u001b[0m: array() missing required argument 'object' (pos 1)"
     ]
    }
   ],
   "source": [
    "positive_cleaned_tokens_list = np.array()\n",
    "negative_cleaned_tokens_list = np.array()\n",
    "\n",
    "for tokens in positive_tweet_tokens:\n",
    "    positive_cleaned_tokens_list.append(remove_noise(tokens, stop_words))\n",
    "\n",
    "for tokens in negative_tweet_tokens:\n",
    "    negative_cleaned_tokens_list.append(remove_noise(tokens, stop_words))"
   ]
  },
  {
   "cell_type": "code",
   "execution_count": 2,
   "metadata": {},
   "outputs": [],
   "source": [
    "pos_review = \"Настоящее кино. Наше кино. Прекрасная работа сценариста, режиссёра, операторов. Профессиональный монтаж, музыкальное сопровождение. Превосходная игра актёров.\\n Работа с таким тонким материалом, как история, требует мастерства и подлинного таланта. Это не фантазия и нахлынувшее воображение, а факты, подлинная история, с которой нельзя не считаться. Прочувственно то неспокойное время. Фильм не отвергает прошлое, как делают в некоторых картин, не старается выкрасить в чёрные цвета действующих лиц.\\n Фильм всего лишь повествует о людях, об идеях, о любви. Повествует о стране, которая очень сильно изменилась, но по-прежнему существует. Хочется вериться, что никакие идеи и люди, которые борются за эти идеи, не пойдут по проторённой дороге. Уроки должны быть выучены, особенно уроки истории.\"\n",
    "pos_rate = 1"
   ]
  },
  {
   "cell_type": "code",
   "execution_count": 3,
   "metadata": {},
   "outputs": [
    {
     "data": {
      "text/plain": [
       "['Настоящее кино.',\n",
       " 'Наше кино.',\n",
       " 'Прекрасная работа сценариста, режиссёра, операторов.',\n",
       " 'Профессиональный монтаж, музыкальное сопровождение.',\n",
       " 'Превосходная игра актёров.',\n",
       " 'Работа с таким тонким материалом, как история, требует мастерства и подлинного таланта.',\n",
       " 'Это не фантазия и нахлынувшее воображение, а факты, подлинная история, с которой нельзя не считаться.',\n",
       " 'Прочувственно то неспокойное время.',\n",
       " 'Фильм не отвергает прошлое, как делают в некоторых картин, не старается выкрасить в чёрные цвета действующих лиц.',\n",
       " 'Фильм всего лишь повествует о людях, об идеях, о любви.',\n",
       " 'Повествует о стране, которая очень сильно изменилась, но по-прежнему существует.',\n",
       " 'Хочется вериться, что никакие идеи и люди, которые борются за эти идеи, не пойдут по проторённой дороге.',\n",
       " 'Уроки должны быть выучены, особенно уроки истории.']"
      ]
     },
     "execution_count": 3,
     "metadata": {},
     "output_type": "execute_result"
    }
   ],
   "source": [
    "sentences = nltk.sent_tokenize(pos_review)\n",
    "sentences"
   ]
  },
  {
   "cell_type": "code",
   "execution_count": 4,
   "metadata": {},
   "outputs": [],
   "source": [
    "words = [word.lower() for word in nltk.word_tokenize(pos_review) if not re.search(r'[^0-9а-яА-ЯёЁ]+', word) and word not in russian_stopwords]"
   ]
  },
  {
   "cell_type": "code",
   "execution_count": 61,
   "metadata": {},
   "outputs": [],
   "source": [
    "from nltk.stem import SnowballStemmer\n",
    "from nltk.tag import pos_tag\n",
    "\n",
    "stemmer = SnowballStemmer(\"russian\")\n",
    "\n",
    "words = [stemmer.stem(word) for word in words]\n",
    "pos_tags = [tag[1] for tag in pos_tag(words)]"
   ]
  },
  {
   "cell_type": "code",
   "execution_count": 5,
   "metadata": {},
   "outputs": [
    {
     "name": "stdout",
     "output_type": "stream",
     "text": [
      "[('кино', 2), ('работа', 2), ('история', 2), ('фильм', 2), ('повествует', 2), ('идеи', 2), ('уроки', 2), ('настоящее', 1), ('наше', 1), ('прекрасная', 1)]\n"
     ]
    }
   ],
   "source": [
    "from nltk import FreqDist\n",
    "\n",
    "freq_dist_pos = FreqDist(words)\n",
    "print(freq_dist_pos.most_common(10))"
   ]
  },
  {
   "cell_type": "code",
   "execution_count": 10,
   "metadata": {},
   "outputs": [],
   "source": []
  },
  {
   "cell_type": "code",
   "execution_count": null,
   "metadata": {},
   "outputs": [],
   "source": []
  }
 ],
 "metadata": {
  "kernelspec": {
   "display_name": "Python 3.8.2 64-bit ('dl': conda)",
   "language": "python",
   "name": "python38264bitdlcondaa180a010ef684b4caaeb2a04b88c216b"
  },
  "language_info": {
   "codemirror_mode": {
    "name": "ipython",
    "version": 3
   },
   "file_extension": ".py",
   "mimetype": "text/x-python",
   "name": "python",
   "nbconvert_exporter": "python",
   "pygments_lexer": "ipython3",
   "version": "3.8.2"
  }
 },
 "nbformat": 4,
 "nbformat_minor": 4
}
